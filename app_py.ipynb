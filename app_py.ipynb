{
  "nbformat": 4,
  "nbformat_minor": 0,
  "metadata": {
    "colab": {
      "name": "app.py",
      "provenance": [],
      "toc_visible": true
    },
    "kernelspec": {
      "name": "python3",
      "display_name": "Python 3"
    }
  },
  "cells": [
    {
      "cell_type": "code",
      "metadata": {
        "id": "5WMdg_cMTc_-",
        "colab_type": "code",
        "colab": {}
      },
      "source": [
        "import pandas as pd\n",
        "import numpy as np"
      ],
      "execution_count": 0,
      "outputs": []
    },
    {
      "cell_type": "code",
      "metadata": {
        "id": "TKFf-Qf6Tkcj",
        "colab_type": "code",
        "colab": {
          "base_uri": "https://localhost:8080/",
          "height": 34
        },
        "outputId": "c0b3a5a9-12af-4c05-89d8-f7a0ae3a5ffe"
      },
      "source": [
        "def extract_article(link):\n",
        "  l = []\n",
        "  for s in link.split(\"/\"):\n",
        "    l.append(s)\n",
        "  a = l[-2]\n",
        "  a=a.replace(\"_\",\" \")\n",
        "  return a\n",
        "extract_article(\"https://www.reddit.com/r/india/comments/g7qeec/doland_dont_do_press_conference/\")"
      ],
      "execution_count": 23,
      "outputs": [
        {
          "output_type": "execute_result",
          "data": {
            "text/plain": [
              "'doland dont do press conference'"
            ]
          },
          "metadata": {
            "tags": []
          },
          "execution_count": 23
        }
      ]
    },
    {
      "cell_type": "code",
      "metadata": {
        "id": "cMeu6fWITrhb",
        "colab_type": "code",
        "colab": {
          "base_uri": "https://localhost:8080/",
          "height": 204
        },
        "outputId": "462e8531-6f64-4bd0-93dd-009083817aa9"
      },
      "source": [
        "!wget -P /root/input/ -c \"https://s3.amazonaws.com/dl4j-distribution/GoogleNews-vectors-negative300.bin.gz\""
      ],
      "execution_count": 24,
      "outputs": [
        {
          "output_type": "stream",
          "text": [
            "--2020-04-26 11:48:51--  https://s3.amazonaws.com/dl4j-distribution/GoogleNews-vectors-negative300.bin.gz\n",
            "Resolving s3.amazonaws.com (s3.amazonaws.com)... 52.216.141.254\n",
            "Connecting to s3.amazonaws.com (s3.amazonaws.com)|52.216.141.254|:443... connected.\n",
            "HTTP request sent, awaiting response... 200 OK\n",
            "Length: 1647046227 (1.5G) [application/x-gzip]\n",
            "Saving to: ‘/root/input/GoogleNews-vectors-negative300.bin.gz’\n",
            "\n",
            "GoogleNews-vectors- 100%[===================>]   1.53G  16.7MB/s    in 97s     \n",
            "\n",
            "2020-04-26 11:50:29 (16.1 MB/s) - ‘/root/input/GoogleNews-vectors-negative300.bin.gz’ saved [1647046227/1647046227]\n",
            "\n"
          ],
          "name": "stdout"
        }
      ]
    },
    {
      "cell_type": "code",
      "metadata": {
        "id": "4jMLqYlsTseV",
        "colab_type": "code",
        "colab": {
          "base_uri": "https://localhost:8080/",
          "height": 71
        },
        "outputId": "7ab1f1bd-2706-414b-8cb4-a20676d7b181"
      },
      "source": [
        "from gensim.models import Word2Vec\n",
        "from gensim.models import KeyedVectors\n",
        "import pickle\n",
        "EMBEDDING_FILE = '/root/input/GoogleNews-vectors-negative300.bin.gz' # from above\n",
        "word2vec = KeyedVectors.load_word2vec_format(EMBEDDING_FILE, binary=True)"
      ],
      "execution_count": 25,
      "outputs": [
        {
          "output_type": "stream",
          "text": [
            "/usr/local/lib/python3.6/dist-packages/smart_open/smart_open_lib.py:253: UserWarning: This function is deprecated, use smart_open.open instead. See the migration notes for details: https://github.com/RaRe-Technologies/smart_open/blob/master/README.rst#migrating-to-the-new-open-function\n",
            "  'See the migration notes for details: %s' % _MIGRATION_NOTES_URL\n"
          ],
          "name": "stderr"
        }
      ]
    },
    {
      "cell_type": "code",
      "metadata": {
        "id": "vbKU5-dDTv4a",
        "colab_type": "code",
        "colab": {
          "base_uri": "https://localhost:8080/",
          "height": 238
        },
        "outputId": "7e0324f6-886f-4718-b237-6827f87cc0c7"
      },
      "source": [
        "vec_rep=pd.read_csv(\"vector_representation3.csv\")\n",
        "w2v_headline = vec_rep.values.tolist()\n",
        "w2v_headline = np.array(w2v_headline)\n",
        "w2v_headline"
      ],
      "execution_count": 26,
      "outputs": [
        {
          "output_type": "execute_result",
          "data": {
            "text/plain": [
              "array([[ 0.        ,  0.        ,  0.        , ...,  0.        ,\n",
              "         0.        ,  0.        ],\n",
              "       [ 0.        ,  0.        ,  0.        , ...,  0.        ,\n",
              "         0.        ,  0.        ],\n",
              "       [-0.01955003,  0.02229192,  0.03703425, ...,  0.0107328 ,\n",
              "         0.0176063 ,  0.03468675],\n",
              "       ...,\n",
              "       [-0.09240723, -0.04692383,  0.05039062, ...,  0.04433594,\n",
              "         0.0010498 ,  0.06169434],\n",
              "       [-0.12124634,  0.08360291,  0.1131897 , ..., -0.01593399,\n",
              "        -0.08050537,  0.06219482],\n",
              "       [-0.0425851 , -0.00156948, -0.05125209, ...,  0.05259487,\n",
              "         0.02280971, -0.01771763]])"
            ]
          },
          "metadata": {
            "tags": []
          },
          "execution_count": 26
        }
      ]
    },
    {
      "cell_type": "code",
      "metadata": {
        "id": "A0DYjaFwTzXG",
        "colab_type": "code",
        "colab": {
          "base_uri": "https://localhost:8080/",
          "height": 1000
        },
        "outputId": "0828dcad-42fe-4156-d1b3-623cc835a43c"
      },
      "source": [
        "def detect_vec(link):\n",
        "  num_rep = []\n",
        "  article = extract_article(link)\n",
        "  print(article)\n",
        "  vocabulary = list(word2vec.vocab)\n",
        "  w2Vec_word = np.zeros(300,dtype=\"float32\")\n",
        "  for word in article.split(\" \"):\n",
        "    if word  in  vocabulary:\n",
        "      w2Vec_word = np.add(w2Vec_word, word2vec[word])\n",
        "  w2Vec_word = np.divide(w2Vec_word, len(article.split()))\n",
        "  num_rep.append(w2Vec_word)\n",
        "  num_rep = np.array(num_rep)\n",
        "  return num_rep\n",
        "\n",
        "\n",
        "detect_vec(\"https://www.reddit.com/r/india/comments/g7qeec/doland_dont_do_press_conference/\")"
      ],
      "execution_count": 27,
      "outputs": [
        {
          "output_type": "stream",
          "text": [
            "doland dont do press conference\n"
          ],
          "name": "stdout"
        },
        {
          "output_type": "execute_result",
          "data": {
            "text/plain": [
              "array([[ 1.19140623e-02,  5.35888672e-02,  3.76708992e-02,\n",
              "         2.78320312e-02, -3.15429680e-02, -4.14062515e-02,\n",
              "         6.57226592e-02, -9.25292969e-02,  5.58593757e-02,\n",
              "         8.95996112e-03, -1.25878900e-01, -4.97863777e-02,\n",
              "        -6.81640655e-02,  5.65673821e-02, -7.99377412e-02,\n",
              "         4.56054695e-02,  8.75488296e-02,  1.02050781e-01,\n",
              "         9.68933105e-03, -5.72509766e-02, -2.09960938e-02,\n",
              "        -1.50588993e-02,  4.73144539e-02,  5.41503914e-02,\n",
              "         4.76562493e-02,  6.98425323e-02, -4.76379395e-02,\n",
              "         7.93609619e-02, -4.24316414e-02, -2.25341804e-02,\n",
              "        -5.12695289e-04,  5.93994148e-02, -5.31005859e-02,\n",
              "        -1.27587885e-01,  6.36550933e-02,  5.10131828e-02,\n",
              "         4.39392105e-02,  1.05810545e-01,  6.93847686e-02,\n",
              "         1.01171874e-01,  6.50451630e-02, -6.60644546e-02,\n",
              "         1.57055661e-01,  4.58007827e-02, -2.92968750e-02,\n",
              "        -7.25341812e-02,  1.22070312e-04, -4.44458015e-02,\n",
              "        -1.06250003e-01,  1.08496092e-01,  6.48437515e-02,\n",
              "         2.15332024e-02,  8.56567398e-02,  1.87988281e-02,\n",
              "         2.35839840e-02, -3.58276367e-02, -1.34667963e-01,\n",
              "        -4.01855484e-02,  6.12792969e-02, -7.65380859e-02,\n",
              "        -1.56250000e-02,  3.72192375e-02, -1.48535162e-01,\n",
              "        -1.43554688e-01, -3.02124023e-02, -9.19433609e-02,\n",
              "        -6.40686005e-02,  1.21679686e-01,  4.80468757e-02,\n",
              "         4.52392586e-02,  1.19116209e-01,  1.91101074e-01,\n",
              "         2.72216788e-03, -6.61621103e-03, -2.97265619e-01,\n",
              "        -6.06567375e-02, -1.66259762e-02,  1.48828119e-01,\n",
              "         2.85644531e-02,  4.62402329e-02, -2.26562507e-02,\n",
              "         4.70214896e-02, -1.17529295e-01, -8.02734345e-02,\n",
              "        -2.73437500e-02, -1.22900389e-01, -3.04199215e-02,\n",
              "         4.58984356e-03,  1.52374264e-02,  1.04345702e-01,\n",
              "         8.90136734e-02, -2.79296879e-02, -5.95214851e-02,\n",
              "        -1.14202879e-01, -5.70312515e-02, -1.20507814e-01,\n",
              "         1.17773436e-01,  4.23156731e-02,  1.47778317e-01,\n",
              "         7.18017593e-02, -7.33154267e-02, -7.10449228e-03,\n",
              "        -6.64062519e-03,  9.01855454e-02, -1.43066403e-02,\n",
              "         8.98437500e-02, -7.54638687e-02, -8.39233398e-02,\n",
              "         9.18945298e-02, -1.32031247e-01, -5.85449226e-02,\n",
              "        -1.04003906e-01, -4.80468757e-02,  3.54995728e-02,\n",
              "         5.06835952e-02, -1.34765627e-02,  3.54492180e-02,\n",
              "        -1.31249994e-01,  6.91894516e-02, -5.98266609e-02,\n",
              "         4.05761711e-02, -7.03124981e-03, -1.96166988e-02,\n",
              "         7.51953125e-02, -1.22314449e-02, -1.35498047e-01,\n",
              "        -9.63867158e-02,  6.54785186e-02,  5.21240234e-02,\n",
              "        -1.34179682e-01, -6.39648438e-02, -1.22070312e-01,\n",
              "         1.24023436e-02,  1.15234377e-02,  8.76464881e-03,\n",
              "        -1.50195315e-01,  1.65985115e-02,  1.57714844e-01,\n",
              "        -2.94433590e-02, -7.91015662e-03,  1.02490231e-01,\n",
              "        -5.01220711e-02,  7.08984360e-02, -2.14257807e-01,\n",
              "         3.22753899e-02, -2.77771000e-02,  1.30737303e-02,\n",
              "        -1.81640625e-01,  3.64257805e-02, -1.16210934e-02,\n",
              "         1.04443356e-01,  5.27343750e-02, -1.00732423e-01,\n",
              "        -1.74560547e-02,  1.83105469e-02, -2.50183102e-02,\n",
              "         2.88879387e-02, -1.01074222e-02, -5.31250015e-02,\n",
              "        -5.28320298e-02,  3.98437493e-02,  1.15429685e-01,\n",
              "        -3.14453132e-02, -4.14062515e-02, -2.76855472e-02,\n",
              "        -1.25292972e-01, -4.59960923e-02,  1.62719730e-02,\n",
              "         5.88867180e-02, -4.07348648e-02, -4.97070327e-02,\n",
              "        -2.72872932e-02,  1.88476555e-02,  1.12243649e-02,\n",
              "        -2.73193363e-02, -9.66796875e-02,  1.43945307e-01,\n",
              "        -6.83593738e-04, -4.06249985e-02, -9.34814438e-02,\n",
              "        -2.78564449e-02, -5.59082022e-03,  5.99609390e-02,\n",
              "         3.24340835e-02,  7.18383789e-02,  8.13461319e-02,\n",
              "        -4.86083999e-02, -3.94042954e-02, -1.70898438e-03,\n",
              "         1.12207033e-01,  1.44482419e-01, -9.81445331e-03,\n",
              "        -4.09179702e-02,  6.38183579e-02,  8.76464844e-02,\n",
              "         2.62023918e-02, -1.33544924e-02, -4.58984356e-03,\n",
              "        -5.79345711e-02, -4.94628921e-02, -2.15942375e-02,\n",
              "         2.11718753e-01, -1.28906248e-02,  6.09130878e-03,\n",
              "        -1.92382820e-02, -5.68359382e-02,  7.80273452e-02,\n",
              "         3.10546868e-02,  1.34277344e-03, -1.91894528e-02,\n",
              "         2.76519768e-02,  4.91699204e-02, -8.24218765e-02,\n",
              "        -6.31347671e-02, -8.37646499e-02,  2.88330074e-02,\n",
              "         1.12402342e-01, -9.24804658e-02, -9.11987275e-02,\n",
              "        -7.71972686e-02, -1.04162596e-01, -2.10937504e-02,\n",
              "        -1.36914060e-01, -2.23632809e-02,  3.80371101e-02,\n",
              "        -9.27246064e-02,  5.56640625e-02,  4.01855484e-02,\n",
              "        -1.78619381e-02, -3.94287100e-03,  1.37011722e-01,\n",
              "         3.24584953e-02, -6.11328110e-02,  1.55273434e-02,\n",
              "         1.11230470e-01, -2.02880856e-02,  1.47949215e-02,\n",
              "        -2.80761713e-04,  1.27929688e-01,  3.43017578e-02,\n",
              "        -3.78417969e-03,  8.52294937e-02, -2.77832039e-02,\n",
              "        -3.71582024e-02, -1.04492186e-02,  9.27001983e-02,\n",
              "        -2.80761719e-03,  1.66015625e-02, -9.03320324e-04,\n",
              "        -4.81445305e-02,  2.60742195e-02,  3.67919914e-02,\n",
              "         7.84667954e-02, -5.21484390e-02,  9.56054702e-02,\n",
              "        -5.91796860e-02,  7.81250000e-03, -3.39843743e-02,\n",
              "         5.52612320e-02,  1.99707039e-02, -1.22070312e-03,\n",
              "         2.75878906e-02,  1.51855471e-02,  5.15624993e-02,\n",
              "         1.36718750e-02,  1.55468747e-01,  1.28417965e-02,\n",
              "        -1.43798832e-02, -1.06738284e-01,  1.07606892e-02,\n",
              "         3.05908211e-02,  9.06250030e-02,  1.09179690e-01,\n",
              "        -1.26953125e-02,  8.78906250e-02,  4.69604507e-02,\n",
              "         9.57519561e-02, -9.50195342e-02, -1.17431641e-01,\n",
              "         7.16796890e-02, -4.98291031e-02, -1.13964841e-01,\n",
              "        -2.79785153e-02,  3.02734375e-02, -7.93457031e-03,\n",
              "        -2.66845711e-02,  3.69842537e-02, -2.92968750e-02,\n",
              "        -6.81945831e-02,  7.71484384e-03, -3.06396489e-03,\n",
              "         4.99023423e-02, -4.30664048e-02,  6.26098663e-02,\n",
              "        -4.83398438e-02, -1.09179690e-01, -4.72167954e-02,\n",
              "        -3.45703140e-02, -8.84521455e-02,  3.88183584e-03]], dtype=float32)"
            ]
          },
          "metadata": {
            "tags": []
          },
          "execution_count": 27
        }
      ]
    },
    {
      "cell_type": "code",
      "metadata": {
        "id": "YdHexGjQT3mI",
        "colab_type": "code",
        "colab": {}
      },
      "source": [
        " #Below libraries are for similarity matrices using sklearn\n",
        "from sklearn.metrics.pairwise import cosine_similarity  \n",
        "from sklearn.metrics import pairwise_distances"
      ],
      "execution_count": 0,
      "outputs": []
    },
    {
      "cell_type": "code",
      "metadata": {
        "id": "8Wla7rvNT-rU",
        "colab_type": "code",
        "colab": {}
      },
      "source": [
        "import pandas as pd\n",
        "df = pd.read_csv(\"data1.csv\")"
      ],
      "execution_count": 0,
      "outputs": []
    },
    {
      "cell_type": "code",
      "metadata": {
        "id": "u_BMsTHWUJX-",
        "colab_type": "code",
        "colab": {}
      },
      "source": [
        "def avg_w2v_based_model(link, num_similar_items=11):\n",
        "    w2v = detect_vec(link)\n",
        "    print(w2v[0].reshape(1,-1).shape)\n",
        "    couple_dist = pairwise_distances(w2v_headline, w2v[0].reshape(1,-1))\n",
        "    indices = np.argsort(couple_dist.ravel())[0:num_similar_items]\n",
        "    df0 = pd.DataFrame({'label': df['lebel'][indices].values,\n",
        "               'headline':df['news'][indices].values,\n",
        "                'Euclidean similarity with the queried article': couple_dist[indices].ravel()})\n",
        "    print(\"=\"*30,\"Queried article details\",\"=\"*30)\n",
        "    print('headline : ',df['news'][indices[0]])\n",
        "    print(\"\\n\",\"=\"*25,\"Recommended articles : \",\"=\"*23)\n",
        "    #return df.iloc[1:,1]\n",
        "    return df0.iloc[1:,]"
      ],
      "execution_count": 0,
      "outputs": []
    },
    {
      "cell_type": "code",
      "metadata": {
        "id": "kvNiIdUgUMff",
        "colab_type": "code",
        "colab": {}
      },
      "source": [
        "def flair_detector(link):\n",
        "  x= avg_w2v_based_model(link)\n",
        "  d = {};\n",
        "  flair =  \"\"\n",
        "  for i in x[\"label\"]:\n",
        "    if i in d.keys():\n",
        "      \n",
        "      d[i]=d[i]+1\n",
        "      \n",
        "    else:\n",
        "      d[i]=1;\n",
        "  mx=0\n",
        "  for i in x[\"label\"]:\n",
        "    if d[i]>mx:\n",
        "      flair = i\n",
        "      mx =  d[i]\n",
        "   \n",
        "  return flair"
      ],
      "execution_count": 0,
      "outputs": []
    },
    {
      "cell_type": "code",
      "metadata": {
        "id": "lVtsCF-pW5g0",
        "colab_type": "code",
        "colab": {
          "base_uri": "https://localhost:8080/",
          "height": 136
        },
        "outputId": "1de9d603-0fef-4297-ea04-9b1dd209ad0c"
      },
      "source": [
        "flair_detector(str(\"https://www.reddit.com/r/india/comments/g7nuky/armenian_genocide_memorial_at_the_churchyard_of/\"))"
      ],
      "execution_count": 40,
      "outputs": [
        {
          "output_type": "stream",
          "text": [
            "armenian genocide memorial at the churchyard of\n",
            "(1, 300)\n",
            "============================== Queried article details ==============================\n",
            "headline :  In documentary ‘Scratches on Stone’, erasure and remembrance of Nagaland’s history\n",
            "\n",
            " ========================= Recommended articles :  =======================\n"
          ],
          "name": "stdout"
        },
        {
          "output_type": "execute_result",
          "data": {
            "text/plain": [
              "'IndianCinema'"
            ]
          },
          "metadata": {
            "tags": []
          },
          "execution_count": 40
        }
      ]
    },
    {
      "cell_type": "code",
      "metadata": {
        "id": "4YQXs3SVvgS3",
        "colab_type": "code",
        "colab": {
          "base_uri": "https://localhost:8080/",
          "height": 241
        },
        "outputId": "9029368a-e6af-493f-94c2-9bf43016365e"
      },
      "source": [
        "!pip install flask-ngrok\n",
        "from flask_ngrok import run_with_ngrok\n"
      ],
      "execution_count": 32,
      "outputs": [
        {
          "output_type": "stream",
          "text": [
            "Requirement already satisfied: flask-ngrok in /usr/local/lib/python3.6/dist-packages (0.0.25)\n",
            "Requirement already satisfied: requests in /usr/local/lib/python3.6/dist-packages (from flask-ngrok) (2.21.0)\n",
            "Requirement already satisfied: Flask>=0.8 in /usr/local/lib/python3.6/dist-packages (from flask-ngrok) (1.1.2)\n",
            "Requirement already satisfied: certifi>=2017.4.17 in /usr/local/lib/python3.6/dist-packages (from requests->flask-ngrok) (2020.4.5.1)\n",
            "Requirement already satisfied: idna<2.9,>=2.5 in /usr/local/lib/python3.6/dist-packages (from requests->flask-ngrok) (2.8)\n",
            "Requirement already satisfied: chardet<3.1.0,>=3.0.2 in /usr/local/lib/python3.6/dist-packages (from requests->flask-ngrok) (3.0.4)\n",
            "Requirement already satisfied: urllib3<1.25,>=1.21.1 in /usr/local/lib/python3.6/dist-packages (from requests->flask-ngrok) (1.24.3)\n",
            "Requirement already satisfied: Jinja2>=2.10.1 in /usr/local/lib/python3.6/dist-packages (from Flask>=0.8->flask-ngrok) (2.11.2)\n",
            "Requirement already satisfied: itsdangerous>=0.24 in /usr/local/lib/python3.6/dist-packages (from Flask>=0.8->flask-ngrok) (1.1.0)\n",
            "Requirement already satisfied: Werkzeug>=0.15 in /usr/local/lib/python3.6/dist-packages (from Flask>=0.8->flask-ngrok) (1.0.1)\n",
            "Requirement already satisfied: click>=5.1 in /usr/local/lib/python3.6/dist-packages (from Flask>=0.8->flask-ngrok) (7.1.1)\n",
            "Requirement already satisfied: MarkupSafe>=0.23 in /usr/local/lib/python3.6/dist-packages (from Jinja2>=2.10.1->Flask>=0.8->flask-ngrok) (1.1.1)\n"
          ],
          "name": "stdout"
        }
      ]
    },
    {
      "cell_type": "code",
      "metadata": {
        "id": "nV-tUWmq3BAn",
        "colab_type": "code",
        "colab": {
          "base_uri": "https://localhost:8080/",
          "height": 326
        },
        "outputId": "8294bd95-cb77-47f3-cb53-898b3b69a926"
      },
      "source": [
        "from flask  import Flask,render_template,redirect,request\n",
        "\n",
        "\n",
        "app = Flask(__name__)\n",
        "run_with_ngrok(app) \n",
        "\n",
        "@app.route('/')\n",
        "def hello():\n",
        "    return render_template(\"index.html\",my_friends =  friends)\n",
        "\n",
        "@app.route('/about')\n",
        "def about():\n",
        "    return \"<h1>about page</h2>\"\n",
        "@app.route('/home')\n",
        "def home():\n",
        "    return redirect('/')\n",
        "\n",
        "titles = []\n",
        "@app.route('/submit',methods = [\"POST\"])\n",
        "def submit_data():\n",
        "    title = \"sa\"\n",
        "    if request.method == \"POST\":\n",
        "        link = request.form[\"link\"]\n",
        "        #page = requests.get(link)\n",
        "        #soup = BeautifulSoup(page.content,'html.parser')\n",
        "       # find_all= soup.find_all('h1' ,{\"class\":\"_eYtD2XCVieq6emjKBH3m\"})   #extracting title of post \n",
        "        flair = flair_detector(link)\n",
        "        \n",
        "    return render_template(\"index.html\",flair_is=flair)\n",
        "       \n",
        "    \n",
        "\n",
        "if __name__=='__main__':\n",
        "    \n",
        "    app.run()\n",
        "    "
      ],
      "execution_count": 47,
      "outputs": [
        {
          "output_type": "stream",
          "text": [
            " * Serving Flask app \"__main__\" (lazy loading)\n",
            " * Environment: production\n",
            "\u001b[31m   WARNING: This is a development server. Do not use it in a production deployment.\u001b[0m\n",
            "\u001b[2m   Use a production WSGI server instead.\u001b[0m\n",
            " * Debug mode: off\n"
          ],
          "name": "stdout"
        },
        {
          "output_type": "stream",
          "text": [
            " * Running on http://127.0.0.1:5000/ (Press CTRL+C to quit)\n"
          ],
          "name": "stderr"
        },
        {
          "output_type": "stream",
          "text": [
            " * Running on http://34a66ce9.ngrok.io\n",
            " * Traffic stats available on http://127.0.0.1:4040\n"
          ],
          "name": "stdout"
        },
        {
          "output_type": "stream",
          "text": [
            "127.0.0.1 - - [26/Apr/2020 12:16:56] \"\u001b[37mGET / HTTP/1.1\u001b[0m\" 200 -\n",
            "127.0.0.1 - - [26/Apr/2020 12:16:57] \"\u001b[33mGET /favicon.ico HTTP/1.1\u001b[0m\" 404 -\n",
            "127.0.0.1 - - [26/Apr/2020 12:17:03] \"\u001b[37mPOST /submit HTTP/1.1\u001b[0m\" 200 -\n"
          ],
          "name": "stderr"
        },
        {
          "output_type": "stream",
          "text": [
            "doland dont do press conference\n",
            "(1, 300)\n",
            "============================== Queried article details ==============================\n",
            "headline :  LaravelLive India, A Laravel Conference, join us for a conference on fastest growing php framework. Visit laravellive.in for more info\n",
            "\n",
            " ========================= Recommended articles :  =======================\n"
          ],
          "name": "stdout"
        }
      ]
    }
  ]
}